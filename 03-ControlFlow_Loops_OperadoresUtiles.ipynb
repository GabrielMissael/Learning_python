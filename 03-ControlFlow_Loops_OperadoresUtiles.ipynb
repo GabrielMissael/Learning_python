{
 "cells": [
  {
   "cell_type": "markdown",
   "metadata": {},
   "source": [
    "## Operadores de comparación\n",
    "Nos permiten realizar preguntas que pueden ser contestadas con un `True` o con un `False` y con ello podremos tomar decisiones.\n",
    "1. **a==b** pregunta si ambas cosas son iguales.\n",
    "2. **a!=b** pregunta si son diferentes.\n",
    "2. **a<b**, **a>b**, **a>=b** y **a<=b** pregunta si a es menor, mayor, mayor o igual y menor o igual, respectivamente."
   ]
  },
  {
   "cell_type": "code",
   "execution_count": 11,
   "metadata": {},
   "outputs": [
    {
     "name": "stdout",
     "output_type": "stream",
     "text": [
      "False True True False False True\n",
      "False False\n",
      "True\n"
     ]
    }
   ],
   "source": [
    "print(5<4, 5>4, 3>=3, 3<=2, \"Hola\"==\"hola\", \"KHE\"==\"KHE\")\n",
    "\n",
    "#Notemos que en strings importa si es mayuscula o no. Veamos que:\n",
    "print(\"2\" == 2, 2.0!=2)\n",
    "\n",
    "print(1<2<3)"
   ]
  },
  {
   "cell_type": "code",
   "execution_count": 8,
   "metadata": {},
   "outputs": [
    {
     "name": "stdout",
     "output_type": "stream",
     "text": [
      "True\n"
     ]
    }
   ],
   "source": [
    "#En este caso se toma en cuenta el tamaño del string\n",
    "print(\"holaaaaa\">\"hola\")"
   ]
  },
  {
   "cell_type": "markdown",
   "metadata": {},
   "source": [
    "## Operadores logicos\n",
    "Son tres: **and**, **or** y **not**. Nos permiten combinar operadores de comparación. (Easy)"
   ]
  },
  {
   "cell_type": "code",
   "execution_count": 14,
   "metadata": {},
   "outputs": [
    {
     "name": "stdout",
     "output_type": "stream",
     "text": [
      "True\n",
      "False\n"
     ]
    }
   ],
   "source": [
    "print((1<2) and (2<3))\n",
    "print(not (1==1))"
   ]
  },
  {
   "cell_type": "markdown",
   "metadata": {},
   "source": [
    "## If, Elif y Else\n",
    "Nos permiten controlar el flujo en un codigo. La forma general del if y del else es:\n",
    "~~~\n",
    "if condition1:\n",
    "    some code that runs if condition1=true\n",
    "elif condition2:\n",
    "    some code that runs if condition2=true and all the previous conditions are false\n",
    "    .\n",
    "    .\n",
    "    .\n",
    "else:\n",
    "    some code that runs if all conditions are false\n",
    "~~~\n",
    "En este caso no usamos **;** como en otros lenguajes ni tampoco **{}**, en su lugar se utilizan los saltos de linea y la identación, respectivamente, por lo que hay que ser particularmente cuidadosos con eso."
   ]
  },
  {
   "cell_type": "code",
   "execution_count": 19,
   "metadata": {},
   "outputs": [
    {
     "name": "stdout",
     "output_type": "stream",
     "text": [
      "Introduzca un numero: \n",
      "100000000000\n",
      "El numero esta bien grande compa tranqui\n"
     ]
    }
   ],
   "source": [
    "print(\"Introduzca un numero: \")\n",
    "a = int(input())\n",
    "\n",
    "if a<10:\n",
    "    print(\"El numero es menor a 10\")\n",
    "elif a<1000:\n",
    "    print(\"El numero es menor a 1000\")\n",
    "elif a<1000000:\n",
    "    print(\"El numero es menor a 1000000\")\n",
    "else:\n",
    "    print(\"El numero esta bien grande compa tranqui\")"
   ]
  },
  {
   "cell_type": "markdown",
   "metadata": {},
   "source": [
    "## For loops\n",
    "Hay objetos en python que son iterables, es decir, que podemos iterar sobre cada uno de sus elementos, como una lista, una string o las llaves de un diccionario. Un ciclo **for** nos permite iterar estos objetos y ejecutar un trozo de codigo en cada iteración. La forma general:\n",
    "~~~\n",
    "for item in iterable:\n",
    "    do something with 'item'\n",
    "~~~"
   ]
  },
  {
   "cell_type": "code",
   "execution_count": 26,
   "metadata": {},
   "outputs": [
    {
     "name": "stdout",
     "output_type": "stream",
     "text": [
      "1 4 9 16 25 36 \n",
      "Cosa 1 = 1, cosa 2 = 2\n",
      "Cosa 1 = 2, cosa 2 = 2\n",
      "Cosa 1 = 1, cosa 2 = 3\n"
     ]
    }
   ],
   "source": [
    "lista = [1, 2, 3, 4, 5, 6]\n",
    "for i in lista:\n",
    "    print(i**2, end =\" \")\n",
    "print()\n",
    "\n",
    "# Algo que se usa con frecuencia es tener listas de tuplas pares (tuple unpacking):\n",
    "\n",
    "lista = [(1,2), (2,2), (1,3)]\n",
    "for a,b in lista:\n",
    "    print(f\"Cosa 1 = {a}, cosa 2 = {b}\")"
   ]
  },
  {
   "cell_type": "code",
   "execution_count": 27,
   "metadata": {},
   "outputs": [
    {
     "name": "stdout",
     "output_type": "stream",
     "text": [
      "1 202 234 "
     ]
    }
   ],
   "source": [
    "diccionario = {\"a\":1, \"b\":202, \"c\":234}\n",
    "\n",
    "for key, valor in diccionario.items():\n",
    "    print(valor, end = \" \")"
   ]
  },
  {
   "cell_type": "markdown",
   "metadata": {},
   "source": [
    "## While loops\n",
    "Son ciclos que se repiten mientras que cierta condicion sea cierta `True`. En general:\n",
    "~~~\n",
    "while condition:\n",
    "    do some code\n",
    "else:\n",
    "    do other thing\n",
    "~~~"
   ]
  },
  {
   "cell_type": "code",
   "execution_count": 34,
   "metadata": {},
   "outputs": [
    {
     "name": "stdout",
     "output_type": "stream",
     "text": [
      "Valor actual = 0\n",
      "Valor actual = 1\n",
      "Valor actual = 2\n",
      "Valor actual = 3\n",
      "x ya no es menor a 4\n"
     ]
    }
   ],
   "source": [
    "x = 0\n",
    "while x<4:\n",
    "    print(f\"Valor actual = {x}\")\n",
    "    x += 1\n",
    "else: \n",
    "    print(\"x ya no es menor a 4\")"
   ]
  },
  {
   "cell_type": "markdown",
   "metadata": {},
   "source": [
    "Hay algunos metodos importantes en los ciclos **while** y **for**:\n",
    "1. **break** este comando rompe el ciclo mas inmediato donde esta contenido\n",
    "2. **continue** regresa al inicio del ciclo que lo contiene\n",
    "3. **pass** no hace nada, pero te deja escribir loops vacios (en caso contrario marca error)"
   ]
  },
  {
   "cell_type": "code",
   "execution_count": 39,
   "metadata": {},
   "outputs": [],
   "source": [
    "for i in range(4):\n",
    "    pass"
   ]
  },
  {
   "cell_type": "markdown",
   "metadata": {},
   "source": [
    "## Operadores utiles\n",
    "1. `range(star, stop, step)`: Puede servir para iterar un determinado numero de veces. Es un generador.\n",
    "\n",
    "Nota: Un generardor es una función que genera información pero que no necesita guardarla en la memoria."
   ]
  },
  {
   "cell_type": "code",
   "execution_count": 47,
   "metadata": {},
   "outputs": [
    {
     "name": "stdout",
     "output_type": "stream",
     "text": [
      "3 5 7 9 "
     ]
    }
   ],
   "source": [
    "for i in range(3, 10, 2):\n",
    "    print(i, end = \" \")"
   ]
  },
  {
   "cell_type": "code",
   "execution_count": 48,
   "metadata": {},
   "outputs": [
    {
     "data": {
      "text/plain": [
       "[3, 5, 7, 9]"
      ]
     },
     "execution_count": 48,
     "metadata": {},
     "output_type": "execute_result"
    }
   ],
   "source": [
    "list(range(3, 10, 2))"
   ]
  },
  {
   "cell_type": "markdown",
   "metadata": {},
   "source": [
    "2. `enumerate`: Nos permite llevar el numero de iteracion en un ciclo, ya que nos regresa tuplas, de la forma `(numero de iteración, valor)`"
   ]
  },
  {
   "cell_type": "code",
   "execution_count": 52,
   "metadata": {},
   "outputs": [
    {
     "name": "stdout",
     "output_type": "stream",
     "text": [
      "La letra a es la numero 0\n",
      "La letra b es la numero 1\n",
      "La letra c es la numero 2\n",
      "La letra d es la numero 3\n"
     ]
    }
   ],
   "source": [
    "lista = [\"a\", \"b\", \"c\", \"d\"]\n",
    "for i, letra in enumerate(lista):\n",
    "    print(f\"La letra {letra} es la numero {i}\")"
   ]
  },
  {
   "cell_type": "markdown",
   "metadata": {},
   "source": [
    "3. `zip`: Puede juntar varias listas, generando tuplas. Es un generador. Toma el i-esimo elemento de cada una de las listas y las pone en una tupla, hasta n, siendo n el tamaño de la lista mas pequeña."
   ]
  },
  {
   "cell_type": "code",
   "execution_count": 58,
   "metadata": {},
   "outputs": [
    {
     "name": "stdout",
     "output_type": "stream",
     "text": [
      "('a', 1, [0, 1])\n",
      "('b', 2, 'khe')\n",
      "('c', 3, 3.1416)\n",
      "('d', 4, None)\n",
      "Puedes poner las tuplas en una lista:\n",
      " [('a', 1, [0, 1]), ('b', 2, 'khe'), ('c', 3, 3.1416), ('d', 4, None)]\n"
     ]
    }
   ],
   "source": [
    "lista1 = [\"a\", \"b\", \"c\", \"d\"]\n",
    "lista2 = [1, 2, 3, 4]\n",
    "lista3 = [[0, 1], \"khe\", 3.1416, None]\n",
    "\n",
    "for valor in zip(lista1, lista2, lista3):\n",
    "    print(valor)\n",
    "    \n",
    "juntas = list(zip(lista1, lista2, lista3))\n",
    "print(\"Puedes poner las tuplas en una lista:\\n\", juntas)"
   ]
  },
  {
   "cell_type": "markdown",
   "metadata": {},
   "source": [
    "4. `in`: Nos sirve para preguntar si un valor está dentro de un objeto (lista, strings, tuplas, llaves de un diccionario, etc)"
   ]
  },
  {
   "cell_type": "code",
   "execution_count": 68,
   "metadata": {},
   "outputs": [
    {
     "name": "stdout",
     "output_type": "stream",
     "text": [
      "True\n"
     ]
    }
   ],
   "source": [
    "dic = {\"a\":1, \"b\":2, \"c\":3, \"d\":4}\n",
    "print(\"a\" in dic)"
   ]
  },
  {
   "cell_type": "markdown",
   "metadata": {},
   "source": [
    "5. `min(objeto)` y `max(objeto)` regresan el valor minimo y el maximo, respectivamente, de un objeto.\n",
    "6. `shuffle(lista)` de la libreria random revuelve el orden de una lista.\n",
    "7. `randint(minimo, maximo)` regresa un valor random entero dentro de esos limites.\n",
    "8. `input(Texto que aparece al pedir el valor)` permite introducir valores al ejecutar. **Ojo:** siempre ingresarán las cosas como strings, para pasar a numeros puedes usar las siguientes funciones.\n",
    "9. `int(string)` y `float(string)`"
   ]
  },
  {
   "cell_type": "markdown",
   "metadata": {},
   "source": [
    "## List comprehension\n",
    "Es una manera rapida y util de crear listas, utilizando un ciclo **for** escencialmente en una sola linea. Ejemplos:"
   ]
  },
  {
   "cell_type": "code",
   "execution_count": 80,
   "metadata": {},
   "outputs": [
    {
     "name": "stdout",
     "output_type": "stream",
     "text": [
      "[0, 1, 4, 9, 16, 25, 36, 49, 64, 81] \n",
      " ['q', 'u', 'e', ' ', 'o', 'n', 'd', 'a', ' ', 'l', 'o', 'c', 'o', 'o', 'o', 'o'] \n",
      " [0, 2, 4, 6, 8]\n"
     ]
    }
   ],
   "source": [
    "lista1 = [i**2 for i in range(10)]\n",
    "lista2 = [letra.lower() for letra in \"QUE ONDA LOCOOOO\"]\n",
    "lista3 = [x for x in range(10) if x%2==0]\n",
    "\n",
    "print(lista1, \"\\n\",lista2, \"\\n\", lista3)"
   ]
  },
  {
   "cell_type": "markdown",
   "metadata": {},
   "source": [
    "## Ejercicio: Juego de adivinar el número"
   ]
  },
  {
   "cell_type": "code",
   "execution_count": 4,
   "metadata": {},
   "outputs": [
    {
     "name": "stdout",
     "output_type": "stream",
     "text": [
      "Tienes que adivinar un numero entero que está entre 1 y 100\n",
      "Di tu primera aproximación:50\n",
      "Frio! :(\n",
      "Tu nueva aproximación:70\n",
      "Mas caliente!\n",
      "Tu nueva aproximación:80\n",
      "Mas frio!\n",
      "Tu nueva aproximación:60\n",
      "Mas caliente!\n",
      "Tu nueva aproximación:65\n",
      "Mas caliente!\n",
      "Tu nueva aproximación:67\n",
      "Mas caliente!\n",
      "Bien! El numero es 67 y te tomó 6 turnos adivinarlo\n"
     ]
    }
   ],
   "source": [
    "from random import randint\n",
    "\n",
    "num = randint(1, 100)\n",
    "count = 1\n",
    "\n",
    "print(\"Tienes que adivinar un numero entero que está entre 1 y 100\")\n",
    "guess = int(input(\"Di tu primera aproximación:\"))\n",
    "\n",
    "while 1>guess>100:\n",
    "    print(\"Fuera de los limites!!\")\n",
    "    guess = int(input(\"Di tu primera aproximación:\"))\n",
    "    \n",
    "if abs(guess-num)<=10:\n",
    "    print(\"Caliente! :)\")\n",
    "else:\n",
    "    print(\"Frio! :(\")\n",
    "\n",
    "    \n",
    "while guess != num:\n",
    "    distancia = abs(guess-num)\n",
    "    \n",
    "    guess = int(input(\"Tu nueva aproximación:\"))\n",
    "    count += 1\n",
    "    \n",
    "    if abs(guess-num)<distancia:\n",
    "        print(\"Mas caliente!\")\n",
    "    else:\n",
    "        print(\"Mas frio!\")\n",
    "        \n",
    "else:\n",
    "    print(f\"Bien! El numero es {num} y te tomó {count} turnos adivinarlo\")\n",
    "    "
   ]
  },
  {
   "cell_type": "markdown",
   "metadata": {},
   "source": [
    "## Ejercicios generales"
   ]
  },
  {
   "cell_type": "code",
   "execution_count": 6,
   "metadata": {},
   "outputs": [
    {
     "name": "stdout",
     "output_type": "stream",
     "text": [
      "start comienza con s!\n",
      "s comienza con s!\n",
      "sentence comienza con s!\n"
     ]
    }
   ],
   "source": [
    "st = 'Print only the words that start with s in this sentence'\n",
    "for palabra in st.split():\n",
    "    if palabra[0] == \"s\":\n",
    "        print(f\"{palabra} comienza con s!\")"
   ]
  },
  {
   "cell_type": "code",
   "execution_count": 7,
   "metadata": {},
   "outputs": [
    {
     "name": "stdout",
     "output_type": "stream",
     "text": [
      "1 3 5 7 9 "
     ]
    }
   ],
   "source": [
    "#Use range() to print all the even numbers from 0 to 10.\n",
    "for i in range(0, 11):\n",
    "    if i%2==1:\n",
    "        print(i, end = \" \")"
   ]
  },
  {
   "cell_type": "code",
   "execution_count": 8,
   "metadata": {},
   "outputs": [
    {
     "name": "stdout",
     "output_type": "stream",
     "text": [
      "[3, 6, 9, 12, 15, 18, 21, 24, 27, 30, 33, 36, 39, 42, 45, 48]\n"
     ]
    }
   ],
   "source": [
    "#Use a List Comprehension to create a list of all numbers between 1 and 50 that are divisible by 3.\n",
    "lista = [num for num in range(1, 51) if num%3==0]\n",
    "print(lista)"
   ]
  },
  {
   "cell_type": "code",
   "execution_count": 9,
   "metadata": {},
   "outputs": [
    {
     "name": "stdout",
     "output_type": "stream",
     "text": [
      "Print tiene tamaño impar!\n",
      "every tiene tamaño impar!\n",
      "has tiene tamaño impar!\n",
      "letters tiene tamaño impar!\n"
     ]
    }
   ],
   "source": [
    "#Go through the string below and if the length of a word is even print \"even!\"\n",
    "st = 'Print every word in this sentence that has an even number of letters'\n",
    "\n",
    "for palabra in st.split():\n",
    "    if len(palabra)%2==1:\n",
    "        print(f\"{palabra} tiene tamaño impar!\")"
   ]
  },
  {
   "cell_type": "code",
   "execution_count": 10,
   "metadata": {},
   "outputs": [
    {
     "name": "stdout",
     "output_type": "stream",
     "text": [
      "['C', 'a', 'l', 'o', 't', 'f', 'l', 'o', 'e', 'w', 'i', 't', 's']\n"
     ]
    }
   ],
   "source": [
    "#Use List Comprehension to create a list of the first letters of every word in the string below:\n",
    "st = 'Create a list of the first letters of every word in this string'\n",
    "\n",
    "lista = [palabra[0] for palabra in st.split()]\n",
    "print(lista)"
   ]
  }
 ],
 "metadata": {
  "kernelspec": {
   "display_name": "Python 3",
   "language": "python",
   "name": "python3"
  },
  "language_info": {
   "codemirror_mode": {
    "name": "ipython",
    "version": 3
   },
   "file_extension": ".py",
   "mimetype": "text/x-python",
   "name": "python",
   "nbconvert_exporter": "python",
   "pygments_lexer": "ipython3",
   "version": "3.7.1"
  }
 },
 "nbformat": 4,
 "nbformat_minor": 2
}
