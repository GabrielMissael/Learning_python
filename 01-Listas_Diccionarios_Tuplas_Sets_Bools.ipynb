{
 "cells": [
  {
   "cell_type": "markdown",
   "metadata": {},
   "source": [
    "## Listas\n",
    "\n",
    "Son secuencias ordenadas que pueden contener objetos de diferentes tipos. La forma general es `lista = [ob1, ob2, ..., obn]`. Al igual que las **strings**, soportan *indexing*  y *slicing* (es de esperarse, ya que son ordenadas). En el siguiente ejemplo queda claro que una lista puede contener enteros, flotantes, strings, diccionarios,... lo que sea."
   ]
  },
  {
   "cell_type": "code",
   "execution_count": 10,
   "metadata": {},
   "outputs": [
    {
     "name": "stdout",
     "output_type": "stream",
     "text": [
      "tamaño = 5, tipo = <class 'list'>, entrada 3 = ['a', 'b'], entrada 2 = Hola\n"
     ]
    }
   ],
   "source": [
    "lista = [1, \"Hola\", [\"a\", \"b\"], 3.1416, {\"yo\":2, \"tu\":2}]\n",
    "print(f\"tamaño = {len(lista)}, tipo = {type(lista)}, entrada 3 = {lista[2]}, entrada 2 = {lista[1]}\")"
   ]
  },
  {
   "cell_type": "markdown",
   "metadata": {},
   "source": [
    "Ejemeplo de slicing:"
   ]
  },
  {
   "cell_type": "code",
   "execution_count": 21,
   "metadata": {},
   "outputs": [
    {
     "name": "stdout",
     "output_type": "stream",
     "text": [
      "[3.1416, {'yo': 2, 'tu': 2}]\n"
     ]
    }
   ],
   "source": [
    "print(f\"{lista[3:]}\")"
   ]
  },
  {
   "cell_type": "markdown",
   "metadata": {},
   "source": [
    "Puedes sumar listas (concatenation)"
   ]
  },
  {
   "cell_type": "code",
   "execution_count": 22,
   "metadata": {},
   "outputs": [
    {
     "name": "stdout",
     "output_type": "stream",
     "text": [
      "[1, 2, 'abc', 'khe', [1, 'c']]\n"
     ]
    }
   ],
   "source": [
    "lista1, lista2 = [1, 2, \"abc\"], [\"khe\", [1, \"c\"]]\n",
    "suma = lista1+lista2\n",
    "print(suma)"
   ]
  },
  {
   "cell_type": "markdown",
   "metadata": {},
   "source": [
    "Podemos cambiar elemento a elemento, a diferencia de con strings:"
   ]
  },
  {
   "cell_type": "code",
   "execution_count": 23,
   "metadata": {},
   "outputs": [
    {
     "name": "stdout",
     "output_type": "stream",
     "text": [
      "['ya no es 1', 2, 'abc']\n"
     ]
    }
   ],
   "source": [
    "lista1[0] = \"ya no es 1\"\n",
    "print(lista1)"
   ]
  },
  {
   "cell_type": "markdown",
   "metadata": {},
   "source": [
    "Para agregar un elemento al final de una lista, utilizamos `.append()`"
   ]
  },
  {
   "cell_type": "code",
   "execution_count": 24,
   "metadata": {},
   "outputs": [
    {
     "name": "stdout",
     "output_type": "stream",
     "text": [
      "['ya no es 1', 2, 'abc', 'esto no estaba antes']\n"
     ]
    }
   ],
   "source": [
    "lista1.append(\"esto no estaba antes\")\n",
    "print(lista1)"
   ]
  },
  {
   "cell_type": "markdown",
   "metadata": {},
   "source": [
    "Para sacar y eliminar un elemento de una lista usamos `.pop(i)`, donde **i** es la posición indicial, si no se indica, se toma por defecto el ultimo elemento. Puedes guardar este elemento al sacarlo."
   ]
  },
  {
   "cell_type": "code",
   "execution_count": 31,
   "metadata": {},
   "outputs": [
    {
     "name": "stdout",
     "output_type": "stream",
     "text": [
      "Elemento eliminado = b, lista nueva = ['a', 'c', 'd']\n"
     ]
    }
   ],
   "source": [
    "lista = [\"a\", \"b\", \"c\", \"d\"]\n",
    "sacado = lista.pop(1)\n",
    "print(f\"Elemento eliminado = {sacado}, lista nueva = {lista}\")"
   ]
  },
  {
   "cell_type": "markdown",
   "metadata": {},
   "source": [
    "Hay mas metodos, que puedes consultar escribiendo `lista.` y presionando tab. Ejemplos:"
   ]
  },
  {
   "cell_type": "code",
   "execution_count": 37,
   "metadata": {},
   "outputs": [
    {
     "name": "stdout",
     "output_type": "stream",
     "text": [
      "['a', 'b', 'c', 'd']\n",
      "['d', 'c', 'b', 'a']\n",
      "[]\n"
     ]
    }
   ],
   "source": [
    "lista = [\"a\", \"c\", \"b\", \"d\"]\n",
    "lista.sort()\n",
    "print(lista)\n",
    "lista.reverse()\n",
    "print(lista)\n",
    "lista.clear()\n",
    "print(lista)"
   ]
  },
  {
   "cell_type": "markdown",
   "metadata": {},
   "source": [
    "**Nexting lists** es tener listas dentro e listas :3 esto nos permite crear, por ejemplo, matrices. Ejemplo:"
   ]
  },
  {
   "cell_type": "code",
   "execution_count": 42,
   "metadata": {},
   "outputs": [
    {
     "name": "stdout",
     "output_type": "stream",
     "text": [
      "[[1, 2, 3], [4, 5, 6], [7, 8, 9]]\n",
      "6\n"
     ]
    }
   ],
   "source": [
    "lista1 = [1, 2, 3]\n",
    "lista2 = [4, 5, 6]\n",
    "lista3 = [7, 8, 9]\n",
    "\n",
    "matriz = [lista1, lista2, lista3]\n",
    "print(matriz)\n",
    "#Para acceder a un elemento\n",
    "print(matriz[1][2])\n",
    "\n",
    "#No tienen porque ser del mismo tamaño :O"
   ]
  },
  {
   "cell_type": "markdown",
   "metadata": {},
   "source": [
    "**List Comprehensions** nos permite crear listas de manera sencilla, utilizando ciclos."
   ]
  },
  {
   "cell_type": "code",
   "execution_count": 44,
   "metadata": {},
   "outputs": [
    {
     "name": "stdout",
     "output_type": "stream",
     "text": [
      "[0, 1, 2, 3, 4, 5, 6, 7, 8, 9]\n"
     ]
    }
   ],
   "source": [
    "lista = [i for i in range(10)]\n",
    "print(lista)"
   ]
  },
  {
   "cell_type": "markdown",
   "metadata": {},
   "source": [
    "## Diccionarios\n",
    "\n",
    "Son mapeos entre key y objetos sin un orden dado. Usan un emparejamiento por \"llaves\" o mejor dicho con un key-value, por lo que no utiliza indices. La esctructura general es `diccionario = {key1:valor1, key2:valor2,..., keyn:valorn}`. Es recomendable usar diccionarios en lugar de una lista cuando tenemos elementos que no estan ordenados porque no es posible hacerlo. Los objetos son accedidos por una llave (key) en lugar de un indice (comom en el caso de listas).\n",
    "\n",
    "Un diccionario, al igual que una lista, soporta todo tipo de objetos (en los valores, las llaves solo pueden ser numeros o strings)."
   ]
  },
  {
   "cell_type": "code",
   "execution_count": 60,
   "metadata": {},
   "outputs": [
    {
     "name": "stdout",
     "output_type": "stream",
     "text": [
      "3.1416 [1, 2, 3] \n",
      "wacha esto homs 3\n",
      "5\n",
      "10\n"
     ]
    }
   ],
   "source": [
    "diccionario = {\n",
    "    \"lista\":[1, 2, 3],\n",
    "    \"string\":\"que onda\",\n",
    "    \"float\":3.1416,\n",
    "    \"int\":54,\n",
    "    \"dic\":{1:\"2\", 2:\"3\"}\n",
    "}\n",
    "\n",
    "print(diccionario[\"float\"], diccionario[\"lista\"], \"\\nwacha esto homs\",diccionario[\"dic\"][2])\n",
    "print(len(diccionario))\n",
    "\n",
    "#Son mutables\n",
    "diccionario[\"int\"] = 10\n",
    "print(diccionario[\"int\"])"
   ]
  },
  {
   "cell_type": "markdown",
   "metadata": {},
   "source": [
    "Hay varios metodos, algunos utiles son:"
   ]
  },
  {
   "cell_type": "code",
   "execution_count": 61,
   "metadata": {},
   "outputs": [
    {
     "name": "stdout",
     "output_type": "stream",
     "text": [
      "dict_keys(['lista', 'string', 'float', 'int', 'dic']) \n",
      "dict_values([[1, 2, 3], 'que onda', 3.1416, 10, {1: '2', 2: '3'}]) \n",
      "dict_items([('lista', [1, 2, 3]), ('string', 'que onda'), ('float', 3.1416), ('int', 10), ('dic', {1: '2', 2: '3'})])\n"
     ]
    }
   ],
   "source": [
    "print(f\"{diccionario.keys()} \\n{diccionario.values()} \\n{diccionario.items()}\")"
   ]
  },
  {
   "cell_type": "markdown",
   "metadata": {},
   "source": [
    "Otra manera de tratar diccionarios, es crearlos y posteriormente ir agregando cosas, por ejemplo:"
   ]
  },
  {
   "cell_type": "code",
   "execution_count": 63,
   "metadata": {},
   "outputs": [
    {
     "name": "stdout",
     "output_type": "stream",
     "text": [
      "{'cosa1': 3.1416, 'cosa2': [1, 2, 'khe'], 'cosa 3': 'que onda'}\n"
     ]
    }
   ],
   "source": [
    "dic = {}\n",
    "dic[\"cosa1\"] = 3.1416\n",
    "dic[\"cosa2\"] = [1, 2, \"khe\"]\n",
    "dic[\"cosa 3\"] = \"que onda\"\n",
    "print(dic)"
   ]
  },
  {
   "cell_type": "markdown",
   "metadata": {},
   "source": [
    "## Tuplas\n",
    "Son simulares a las listas, pero son inmutables. Una vez un elemento está dentro de una tupla, este no puede ser modificado. La forma general es `tupla = (valor1, valor2, ..., valorn)`. Dado que tiene indices, puedes usar slicing e indexing. Son utiles cuando necesitamos que determinados valores **no cambien**."
   ]
  },
  {
   "cell_type": "code",
   "execution_count": 79,
   "metadata": {},
   "outputs": [
    {
     "name": "stdout",
     "output_type": "stream",
     "text": [
      "(1, [1, 2, 3]) {1: 'cosa', 'que': 'rayos'} 4\n"
     ]
    }
   ],
   "source": [
    "tupla = (1, \"khe\", [1, 2, 3], {1:\"cosa\", \"que\":\"rayos\"})\n",
    "print(tupla[::2], tupla[-1], len(tupla))"
   ]
  },
  {
   "cell_type": "markdown",
   "metadata": {},
   "source": [
    "Hay dos metodos importantes para las tuplas, que son `.count(valor)` (cuenta cuantas veces aparece el valor) y `.index(valor)` (regresa el indice de la primera aparición del valor)"
   ]
  },
  {
   "cell_type": "code",
   "execution_count": 77,
   "metadata": {},
   "outputs": [
    {
     "name": "stdout",
     "output_type": "stream",
     "text": [
      "# de veces que aparece 'a' = 3\n",
      "Primera vez que aparece 'b' = 2\n"
     ]
    }
   ],
   "source": [
    "tupla = ('a', 'a', 'b', 'c', 'b', 'a')\n",
    "print(f\"# de veces que aparece 'a' = {tupla.count('a')}\\nPrimera vez que aparece 'b' = {tupla.index('b')}\")"
   ]
  },
  {
   "cell_type": "markdown",
   "metadata": {},
   "source": [
    "Obviamente si intento cambiar un valor no podre hacerlo y me saldrá un error:"
   ]
  },
  {
   "cell_type": "code",
   "execution_count": 78,
   "metadata": {},
   "outputs": [
    {
     "ename": "TypeError",
     "evalue": "'tuple' object does not support item assignment",
     "output_type": "error",
     "traceback": [
      "\u001b[1;31m---------------------------------------------------------------------------\u001b[0m",
      "\u001b[1;31mTypeError\u001b[0m                                 Traceback (most recent call last)",
      "\u001b[1;32m<ipython-input-78-1bc87af6840c>\u001b[0m in \u001b[0;36m<module>\u001b[1;34m\u001b[0m\n\u001b[1;32m----> 1\u001b[1;33m \u001b[0mtupla\u001b[0m\u001b[1;33m[\u001b[0m\u001b[1;36m0\u001b[0m\u001b[1;33m]\u001b[0m \u001b[1;33m=\u001b[0m \u001b[1;34m\"no puedo hacer esto jaja\"\u001b[0m\u001b[1;33m\u001b[0m\u001b[1;33m\u001b[0m\u001b[0m\n\u001b[0m",
      "\u001b[1;31mTypeError\u001b[0m: 'tuple' object does not support item assignment"
     ]
    }
   ],
   "source": [
    "tupla[0] = \"no puedo hacer esto jaja\""
   ]
  },
  {
   "cell_type": "markdown",
   "metadata": {},
   "source": [
    "## Sets\n",
    "Un set es una coleccion unica (es decir, no existen dos elementos iguales) de objetos desordenados. Tienen la forma general `ejemplo = set(valor1, valor2, ..., valor n)`"
   ]
  },
  {
   "cell_type": "code",
   "execution_count": 89,
   "metadata": {},
   "outputs": [
    {
     "name": "stdout",
     "output_type": "stream",
     "text": [
      "{1, 3.1416, 'khe'}\n"
     ]
    }
   ],
   "source": [
    "ejemplo = set()\n",
    "ejemplo.add(1)\n",
    "ejemplo.add(\"khe\")\n",
    "ejemplo.add(3.1416)\n",
    "\n",
    "print(ejemplo)"
   ]
  },
  {
   "cell_type": "markdown",
   "metadata": {},
   "source": [
    "Si tratamos de agregar una vez mas un elemento ya existente, el set se queda igual"
   ]
  },
  {
   "cell_type": "code",
   "execution_count": 90,
   "metadata": {},
   "outputs": [
    {
     "name": "stdout",
     "output_type": "stream",
     "text": [
      "{1, 3.1416, 'khe'}\n"
     ]
    }
   ],
   "source": [
    "ejemplo.add(1)\n",
    "print(ejemplo)"
   ]
  },
  {
   "cell_type": "markdown",
   "metadata": {},
   "source": [
    "Un ejemplo de para que sirven es para obtener todos los elementos diferentes de una lista:"
   ]
  },
  {
   "cell_type": "code",
   "execution_count": 93,
   "metadata": {},
   "outputs": [
    {
     "name": "stdout",
     "output_type": "stream",
     "text": [
      "{1, 2, 3, 5}\n",
      "Las letras que forman la palabra 'Mississipi' son {'i', 'p', 'M', 's'}\n"
     ]
    }
   ],
   "source": [
    "lista = [5,5,5,1,1,1,1,1,2,2,2,2,3,3,3,3]\n",
    "elementos = set(lista)\n",
    "print(elementos)\n",
    "\n",
    "print(f\"Las letras que forman la palabra 'Mississipi' son {set('Mississipi')}\")"
   ]
  },
  {
   "cell_type": "markdown",
   "metadata": {},
   "source": [
    "## Booleanas\n",
    "Son variables binarias con solo dos valores posibles: **True** o **False** (o bien 1 o 0). *Ojo:* deben tener mayuscula al incio."
   ]
  },
  {
   "cell_type": "code",
   "execution_count": 97,
   "metadata": {},
   "outputs": [
    {
     "name": "stdout",
     "output_type": "stream",
     "text": [
      "<class 'bool'>\n",
      "True\n"
     ]
    }
   ],
   "source": [
    "print(type(True))\n",
    "print(1==1)"
   ]
  },
  {
   "cell_type": "code",
   "execution_count": 99,
   "metadata": {},
   "outputs": [
    {
     "name": "stdout",
     "output_type": "stream",
     "text": [
      "None\n"
     ]
    }
   ],
   "source": [
    "b = None\n",
    "print(b)"
   ]
  }
 ],
 "metadata": {
  "kernelspec": {
   "display_name": "Python 3",
   "language": "python",
   "name": "python3"
  },
  "language_info": {
   "codemirror_mode": {
    "name": "ipython",
    "version": 3
   },
   "file_extension": ".py",
   "mimetype": "text/x-python",
   "name": "python",
   "nbconvert_exporter": "python",
   "pygments_lexer": "ipython3",
   "version": "3.7.1"
  }
 },
 "nbformat": 4,
 "nbformat_minor": 2
}
