{
 "cells": [
  {
   "cell_type": "markdown",
   "metadata": {},
   "source": [
    "## I/O con archivos .txt\n",
    "Para crear archivos desde jupyter notebook, podemos hacer lo siguiente:"
   ]
  },
  {
   "cell_type": "code",
   "execution_count": 1,
   "metadata": {},
   "outputs": [
    {
     "name": "stdout",
     "output_type": "stream",
     "text": [
      "Overwriting datos/texto_desde_notebook.txt\n"
     ]
    }
   ],
   "source": [
    "%%writefile datos/texto_desde_notebook.txt\n",
    "Que onda esto es un archivo de texto random\n",
    "FUTURE LAAAAAAAAAB\n",
    "que onda que pez\n",
    "Esta es la ultima linea"
   ]
  },
  {
   "cell_type": "markdown",
   "metadata": {},
   "source": [
    "Para abrir un archivo y tenerlo en una varible:"
   ]
  },
  {
   "cell_type": "code",
   "execution_count": 2,
   "metadata": {},
   "outputs": [
    {
     "name": "stdout",
     "output_type": "stream",
     "text": [
      "<class '_io.TextIOWrapper'>\n",
      "Que onda esto es un archivo de texto random\n",
      "FUTURE LAAAAAAAAAB\n",
      "que onda que pez\n",
      "Esta es la ultima linea\n",
      "\n"
     ]
    }
   ],
   "source": [
    "archivo = open(\"datos/texto_desde_notebook.txt\")\n",
    "contenido = archivo.read()\n",
    "print(type(archivo))\n",
    "print(contenido)"
   ]
  },
  {
   "cell_type": "markdown",
   "metadata": {},
   "source": [
    " Notemos que si tratamos de leer de nuevo, nos regresa vacio porque la posición del cursor es al final del archivo. Podemos regresar el cursor al incio:"
   ]
  },
  {
   "cell_type": "code",
   "execution_count": 3,
   "metadata": {},
   "outputs": [
    {
     "name": "stdout",
     "output_type": "stream",
     "text": [
      "Estamos leyendo : \n",
      "Ahora si : Que onda esto es un archivo de texto random\n",
      "FUTURE LAAAAAAAAAB\n",
      "que onda que pez\n",
      "Esta es la ultima linea\n",
      "\n"
     ]
    }
   ],
   "source": [
    "print(f\"Estamos leyendo : {archivo.read()}\")\n",
    "archivo.seek(0)\n",
    "print(f\"Ahora si : {archivo.read()}\")"
   ]
  },
  {
   "cell_type": "markdown",
   "metadata": {},
   "source": [
    "Para leer linea por linea:"
   ]
  },
  {
   "cell_type": "code",
   "execution_count": 8,
   "metadata": {},
   "outputs": [
    {
     "name": "stdout",
     "output_type": "stream",
     "text": [
      "FUTURE LAAAAAAAAAB\n",
      "\n"
     ]
    }
   ],
   "source": [
    "archivo.seek(0)\n",
    "lineas = archivo.readlines()\n",
    "print(lineas[1])\n",
    "\n",
    "#Siempre es recomendado cerrar los archivos utilizados\n",
    "archivo.close()"
   ]
  },
  {
   "cell_type": "markdown",
   "metadata": {},
   "source": [
    "Truco: Para conoce el path donde está este directorio puedes hacer:"
   ]
  },
  {
   "cell_type": "code",
   "execution_count": 9,
   "metadata": {},
   "outputs": [
    {
     "data": {
      "text/plain": [
       "'C:\\\\Users\\\\missa\\\\Documents\\\\Cursos\\\\Learning_python\\\\Just_python'"
      ]
     },
     "execution_count": 9,
     "metadata": {},
     "output_type": "execute_result"
    }
   ],
   "source": [
    "pwd"
   ]
  },
  {
   "cell_type": "markdown",
   "metadata": {},
   "source": [
    "### Reescribir un archivo\n",
    "Si queremos reescribir, debemos especificarlo en el metodo open(), ya que por defecto solo te deja leer. Añadimos \"w\" para escribir y \"w+\" para escribir y leer. **Ojo** todo lo que habia en el archivo original es borrado, es escribirlo nuevamente, o crearlo si no existe:"
   ]
  },
  {
   "cell_type": "code",
   "execution_count": 44,
   "metadata": {},
   "outputs": [
    {
     "name": "stdout",
     "output_type": "stream",
     "text": [
      "Que onda esto es nuevo\n"
     ]
    }
   ],
   "source": [
    "archivo = open(\"datos/texto_desde_notebook.txt\", \"w+\")\n",
    "archivo.write(\"Que onda esto es nuevo\")\n",
    "archivo.seek(0)\n",
    "print(archivo.read())\n",
    "\n",
    "archivo.close()"
   ]
  },
  {
   "cell_type": "markdown",
   "metadata": {},
   "source": [
    "### Escribir en archivo preexistente\n",
    "Si queremos agrefar algo a un archivo, usamos el argumento \"a\", y \"a+\" para escribir y leer (a de append jeje)"
   ]
  },
  {
   "cell_type": "code",
   "execution_count": 45,
   "metadata": {},
   "outputs": [
    {
     "name": "stdout",
     "output_type": "stream",
     "text": [
      "Que onda esto es nuevo\n",
      "Esto no estaba hasta ahora\n"
     ]
    }
   ],
   "source": [
    "archivo = open(\"datos/texto_desde_notebook.txt\", \"a+\")\n",
    "archivo.write(\"\\nEsto no estaba hasta ahora\")\n",
    "archivo.seek(0)\n",
    "print(archivo.read())\n",
    "\n",
    "archivo.close()"
   ]
  },
  {
   "cell_type": "code",
   "execution_count": 46,
   "metadata": {},
   "outputs": [
    {
     "name": "stdout",
     "output_type": "stream",
     "text": [
      "Que onda esto es nuevo\n",
      "Esto no estaba hasta ahora\n",
      "Esto es otra manera de hacerlo y no necesito cerrar el archivo\n"
     ]
    }
   ],
   "source": [
    "with open(\"datos/texto_desde_notebook.txt\", \"a+\") as f:\n",
    "    f.write(\"\\nEsto es otra manera de hacerlo y no necesito cerrar el archivo\")\n",
    "    \n",
    "with open(\"datos/texto_desde_notebook.txt\", \"r\") as f:    \n",
    "    contenido = f.read()\n",
    "    \n",
    "print(contenido)"
   ]
  },
  {
   "cell_type": "markdown",
   "metadata": {},
   "source": [
    "Podemos iterar en las lineas de un archivo:\n"
   ]
  },
  {
   "cell_type": "code",
   "execution_count": 47,
   "metadata": {},
   "outputs": [
    {
     "name": "stdout",
     "output_type": "stream",
     "text": [
      "Que onda esto es nuevo\n",
      "\n",
      "Esto no estaba hasta ahora\n",
      "\n",
      "Esto es otra manera de hacerlo y no necesito cerrar el archivo\n"
     ]
    }
   ],
   "source": [
    "for i in open(\"datos/texto_desde_notebook.txt\"):\n",
    "    print(i)"
   ]
  },
  {
   "cell_type": "markdown",
   "metadata": {},
   "source": [
    "### Ubicación de archivos\n",
    "Si quieres abrir un archivo en otra ubicación simplemente añade el path completo :3.\n",
    "\n",
    "Siempre asegurate de cerrar loas archivos que abras, puedes cerrarlo explicitamente o bien, puedes hacer lo siguiente, y ya no es necesario que cierres nada:"
   ]
  },
  {
   "cell_type": "code",
   "execution_count": 48,
   "metadata": {},
   "outputs": [
    {
     "name": "stdout",
     "output_type": "stream",
     "text": [
      "Que onda esto es nuevo\n",
      "Esto no estaba hasta ahora\n",
      "Esto es otra manera de hacerlo y no necesito cerrar el archivo\n"
     ]
    }
   ],
   "source": [
    "with open(\"datos/texto_desde_notebook.txt\") as archivo:\n",
    "    contenido = archivo.read()\n",
    "    \n",
    "print(contenido)"
   ]
  },
  {
   "cell_type": "markdown",
   "metadata": {},
   "source": [
    "Super truco: Puedes colocar el cursor sobre una funcion, presionar *shift+tab* y ver todos los parametros y la documentacion :O"
   ]
  }
 ],
 "metadata": {
  "kernelspec": {
   "display_name": "Python 3",
   "language": "python",
   "name": "python3"
  },
  "language_info": {
   "codemirror_mode": {
    "name": "ipython",
    "version": 3
   },
   "file_extension": ".py",
   "mimetype": "text/x-python",
   "name": "python",
   "nbconvert_exporter": "python",
   "pygments_lexer": "ipython3",
   "version": "3.7.1"
  }
 },
 "nbformat": 4,
 "nbformat_minor": 2
}
