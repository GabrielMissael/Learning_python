{
 "cells": [
  {
   "cell_type": "markdown",
   "metadata": {},
   "source": [
    "## Métodos y documentación\n",
    "Hay varios metodos precargados en python. Un metodo es basicamente una función que actua en un objeto determinado. La manera general de consultar metodos en un notebook es, para un objeto dado, escribir `objeto.` y presionar **Tab**. Por ejemplo, para listas ya conocemos los metodos append, pop, etc. \n",
    "\n",
    "Si queremos ver la documentación de un método, podemos escribir `objeto.método` y luego presionar **shift+tab**, o bien, utilizar la función help, escribiendo sencillamente `help(objeto.método)`. O bien, sencillamente ir a la [documentación](https://docs.python.org) de python en su sitio web."
   ]
  },
  {
   "cell_type": "code",
   "execution_count": 13,
   "metadata": {},
   "outputs": [
    {
     "name": "stdout",
     "output_type": "stream",
     "text": [
      "Help on built-in function insert:\n",
      "\n",
      "insert(index, object, /) method of builtins.list instance\n",
      "    Insert object before index.\n",
      "\n",
      "None\n"
     ]
    }
   ],
   "source": [
    "lista = [x for x in range(10)]\n",
    "print(help(lista.insert))"
   ]
  },
  {
   "cell_type": "markdown",
   "metadata": {},
   "source": [
    "## Funciones\n",
    "Es importante crear codigo limpio y repetible. Las funciones nos permiten escribir bloques de codigo que pueden ser facilmente ejecutados varias veces a lo larg de un programa sencillamente llamando la función, sin necesidad de reescribir de nuevo la función. La sintaxis general de una función es:\n",
    "~~~\n",
    "def nombre_de_funcion(parametro1, parametro2, ... parametroN):\n",
    "    '''\n",
    "    DOCSTRING: Información sobre la función (documentación)\n",
    "    INPUT: Parametros de la función\n",
    "    OUTPUT: Que regresa la función\n",
    "    '''\n",
    "    \n",
    "    Bloque de codigo que usa los parametros\n",
    "    return objeto\n",
    "~~~\n",
    "Notemos que no necesariamente se deben de pasar parametros a la función, ni tampoco necesariamente la función debe regresar algo. La parte del comentario es importante si alguien mas va a leer, usar o modificar tu codigo (incluido tu mismo en el futuro)"
   ]
  },
  {
   "cell_type": "code",
   "execution_count": 41,
   "metadata": {},
   "outputs": [],
   "source": [
    "def funcion(nombre='NAME', edad='AGE'):\n",
    "    print(f'Que pex {nombre}, tienes {edad} años de edad')"
   ]
  },
  {
   "cell_type": "code",
   "execution_count": 46,
   "metadata": {},
   "outputs": [
    {
     "name": "stdout",
     "output_type": "stream",
     "text": [
      "Que pex Missael, tienes 180 años de edad\n"
     ]
    }
   ],
   "source": [
    "funcion(nombre = \"Missael\", edad=180)"
   ]
  },
  {
   "cell_type": "markdown",
   "metadata": {},
   "source": [
    "El hecho de poner `nombre='NAME'` y `edad = 'AGE` es una forma de especificar valores por default para los parametros, de tal forma que al momento de llamar la función y no poner ese parametro, no nos marque error y sencillamente se tomen esos valores predeterminados.\n",
    "Otra cosa que es util notar es que podemos o no especificar el nombre del parametro al llamar la funcion. Si no lo hacemos, se asignaran de izquierda a derecha en orden."
   ]
  },
  {
   "cell_type": "code",
   "execution_count": 60,
   "metadata": {},
   "outputs": [
    {
     "name": "stdout",
     "output_type": "stream",
     "text": [
      "Que pex NAME, tienes AGE años de edad\n",
      "Que pex Missael, tienes 190 años de edad\n"
     ]
    }
   ],
   "source": [
    "funcion()\n",
    "funcion('Missael', 190)"
   ]
  },
  {
   "cell_type": "markdown",
   "metadata": {},
   "source": [
    "### Ejercicios"
   ]
  },
  {
   "cell_type": "code",
   "execution_count": 48,
   "metadata": {},
   "outputs": [],
   "source": [
    "def pig(string):\n",
    "    if string[0] in 'aeiou':\n",
    "        return string + 'ay'\n",
    "    else:\n",
    "        return string[1:] + string[0] + 'ay'"
   ]
  },
  {
   "cell_type": "code",
   "execution_count": 50,
   "metadata": {},
   "outputs": [
    {
     "name": "stdout",
     "output_type": "stream",
     "text": [
      "ordway appleay\n"
     ]
    }
   ],
   "source": [
    "print(pig('word'), pig('apple'))"
   ]
  },
  {
   "cell_type": "code",
   "execution_count": 53,
   "metadata": {},
   "outputs": [],
   "source": [
    "def doc_check(string):\n",
    "    return 'dog' in string.lower()"
   ]
  },
  {
   "cell_type": "code",
   "execution_count": 54,
   "metadata": {},
   "outputs": [
    {
     "name": "stdout",
     "output_type": "stream",
     "text": [
      "True\n"
     ]
    }
   ],
   "source": [
    "print(doc_check('Dog is a lier'))"
   ]
  },
  {
   "cell_type": "markdown",
   "metadata": {},
   "source": [
    "## `*args y **kwargs`\n",
    "Estos son dos parametros usualmente utiles, que nos ayudan a meter una cantidad arbitraria de parametros en una función de manera sencilla."
   ]
  },
  {
   "cell_type": "code",
   "execution_count": 69,
   "metadata": {},
   "outputs": [],
   "source": [
    "def mi_funcion(a, b):\n",
    "    # Regresa el 50% de la suma de a y b\n",
    "    return (a+b)*0.5"
   ]
  },
  {
   "cell_type": "code",
   "execution_count": 70,
   "metadata": {},
   "outputs": [
    {
     "data": {
      "text/plain": [
       "50.0"
      ]
     },
     "execution_count": 70,
     "metadata": {},
     "output_type": "execute_result"
    }
   ],
   "source": [
    "mi_funcion(10, 90)"
   ]
  },
  {
   "cell_type": "markdown",
   "metadata": {},
   "source": [
    "En esta funcion podriamos querer trabajar con mas de dos numeros, para esto podriamos asignar un monton de parametros(tantos como queramos), pero es mas efectivo usar ***args**, y de esta manera acepta un numero arbitrario (no definido) de numeros.\n",
    "\n",
    "***args** se trata como una tupla (es inmutable). Notemos que por default le llamamos **args** pero perfectamente podria ser ***pedrito**, lo importante es la * al inicio. Aunque ojo, por convencion se usa args. Es importante notar que ninguno de los parametros que mandamos a la función tiene un 'nombre', lo cual es logico, ya que se guardaran en una tupla, por lo que solo importa el orden que tengan."
   ]
  },
  {
   "cell_type": "code",
   "execution_count": 91,
   "metadata": {},
   "outputs": [],
   "source": [
    "def mi_funcion(*args):\n",
    "    #Regresa el 50% de la suma de los numeros dados\n",
    "    print(type(args))\n",
    "    print(args)\n",
    "    return sum(args)*0.5"
   ]
  },
  {
   "cell_type": "code",
   "execution_count": 95,
   "metadata": {},
   "outputs": [
    {
     "ename": "SyntaxError",
     "evalue": "positional argument follows keyword argument (<ipython-input-95-15d862f28016>, line 1)",
     "output_type": "error",
     "traceback": [
      "\u001b[1;36m  File \u001b[1;32m\"<ipython-input-95-15d862f28016>\"\u001b[1;36m, line \u001b[1;32m1\u001b[0m\n\u001b[1;33m    print(mi_funcion(a = 11, 50, 100, 1234, 123, 523))\u001b[0m\n\u001b[1;37m                            ^\u001b[0m\n\u001b[1;31mSyntaxError\u001b[0m\u001b[1;31m:\u001b[0m positional argument follows keyword argument\n"
     ]
    }
   ],
   "source": [
    "print(mi_funcion(11, 50, 100, 1234, 123, 523))"
   ]
  },
  {
   "cell_type": "markdown",
   "metadata": {},
   "source": [
    "En python existe una forma de pasar una cantidad arbitraria de ***args** diferentes a una misma funcion, para eso usamos ****kwargs** (this stands for 'keyword arguments'), y se maneja como un **diccionario**, donde cada llave se relaciona con un objeto en python. Es importante notar que en este caso cada parametro que pasemos a la función debe tener un nombre, una keyword, lo cual es obvio, porque se guardaran en un diccionario."
   ]
  },
  {
   "cell_type": "code",
   "execution_count": 126,
   "metadata": {},
   "outputs": [],
   "source": [
    "def ejemplo(**kwargs):\n",
    "    print(type(kwargs))\n",
    "    print(kwargs)\n",
    "    for key in kwargs:\n",
    "        print('La primera entrada de este objeto'\n",
    "              +f' relacionado con la llave \"{key}\" es: {kwargs[key][0]}')"
   ]
  },
  {
   "cell_type": "code",
   "execution_count": 127,
   "metadata": {},
   "outputs": [
    {
     "name": "stdout",
     "output_type": "stream",
     "text": [
      "<class 'dict'>\n",
      "{'animales': ['perros', 'gatos', 'conejos'], 'frutas': ('mango', 'pera'), 'numeros': {0: 'cero', 1: 'uno'}}\n",
      "La primera entrada de este objeto relacionado con la llave \"animales\" es: perros\n",
      "La primera entrada de este objeto relacionado con la llave \"frutas\" es: mango\n",
      "La primera entrada de este objeto relacionado con la llave \"numeros\" es: cero\n"
     ]
    }
   ],
   "source": [
    "ejemplo(animales=['perros', 'gatos', 'conejos'], frutas = ('mango', 'pera'),\n",
    "       numeros = {0:'cero', 1:'uno'})"
   ]
  },
  {
   "cell_type": "markdown",
   "metadata": {},
   "source": [
    "Una vez mas, no es necesario usar especificamente **kwargs**, puedes usar cualquier otro nombre de variable (por que al final, eso es), sin embargo, es recomendable usar eso, por convención. \n",
    "Podemos perfectamente combinar ***args** y ****kwargs** si fuera necesario, por ejemplo:"
   ]
  },
  {
   "cell_type": "code",
   "execution_count": 106,
   "metadata": {},
   "outputs": [],
   "source": [
    "def no_hace_nada(*args, **kwargs):\n",
    "    for i, num in enumerate(args):\n",
    "        print('Tengo {0} {2} para cada {1}'.format(\n",
    "            num, kwargs['animales'][i], kwargs['cosas'][i]))"
   ]
  },
  {
   "cell_type": "code",
   "execution_count": 108,
   "metadata": {},
   "outputs": [
    {
     "name": "stdout",
     "output_type": "stream",
     "text": [
      "Tengo 10 huesos para cada perro\n",
      "Tengo 2 espacios para cada gato\n",
      "Tengo 50 alimentos para cada araña\n"
     ]
    }
   ],
   "source": [
    "no_hace_nada(10, 2, 50, animales = ['perro', 'gato', 'araña'], \n",
    "            cosas = ['huesos', 'espacios', 'alimentos'])"
   ]
  }
 ],
 "metadata": {
  "kernelspec": {
   "display_name": "Python 3",
   "language": "python",
   "name": "python3"
  },
  "language_info": {
   "codemirror_mode": {
    "name": "ipython",
    "version": 3
   },
   "file_extension": ".py",
   "mimetype": "text/x-python",
   "name": "python",
   "nbconvert_exporter": "python",
   "pygments_lexer": "ipython3",
   "version": "3.7.1"
  }
 },
 "nbformat": 4,
 "nbformat_minor": 2
}
