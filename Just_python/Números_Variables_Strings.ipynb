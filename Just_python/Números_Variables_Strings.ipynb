{
 "cells": [
  {
   "cell_type": "markdown",
   "metadata": {},
   "source": [
    "## Resumen\n",
    "#### Tipos de datos\n",
    "- Enteros (int)\n",
    "- Flotantes (float)\n",
    "- Strings (str)\n",
    "- Booleanas (bool)\n",
    "\n",
    "#### Estructura de datos:\n",
    "- Listas (list)\n",
    "- Diccionarios (dict)\n",
    "- Tuplas (tup)\n",
    "- Sets (set)\n",
    "\n",
    "## Operaciones con numeros\n",
    "Las operaciones basicas como ya las conocemos:"
   ]
  },
  {
   "cell_type": "code",
   "execution_count": 153,
   "metadata": {},
   "outputs": [
    {
     "name": "stdout",
     "output_type": "stream",
     "text": [
      "3+2 = 5 \n",
      "3-7 = -4 \n",
      "2*3 = 6 \n",
      "2/3 = 2.3333333333333335 \n",
      "10%3 = 1 \n",
      "7//3 = 2 \n",
      "2**10 = 1024\n"
     ]
    }
   ],
   "source": [
    "print(\"3+2 =\", 3+2, \"\\n3-7 =\", 3-7, \"\\n2*3 =\", 2*3,\n",
    "      \"\\n2/3 =\", 7/3, \"\\n10%3 =\", 7%3, \"\\n7//3 =\", 7//3, \"\\n2**10 =\", 2**10)"
   ]
  },
  {
   "cell_type": "code",
   "execution_count": 34,
   "metadata": {},
   "outputs": [
    {
     "name": "stdout",
     "output_type": "stream",
     "text": [
      "100.0\n",
      "5.551115123125783e-17\n"
     ]
    }
   ],
   "source": [
    "#Las podemos combinar como queramos, respetando la jerarquia de operaciones\n",
    "print(((2-1)%2)/100*(100**2))\n",
    "\n",
    "#No hay precision infinita, por eso no da cero\n",
    "print(0.1+0.2-0.3)"
   ]
  },
  {
   "cell_type": "markdown",
   "metadata": {},
   "source": [
    "### Asignacion de variables\n",
    "Consejos: \n",
    "1. usa minusculas\n",
    "2. no uses palabras reservadas o similares \n",
    "3. no utilices simbolos raros\n",
    "4. en lugar de espacio utiliza `_`\n",
    "5. no pueden iniciar con un numero.\n",
    "\n",
    "Python usa **tipado dinamico**, por lo que puedes reasignar variables a otros tipos diferentes de datos. Tampoco es necesario escribir explicitamente el tipo de variable al momento de declarar una nueva. Esto es diferente a, por ejemplo, **C\\C++**, que tiene **tipado estatico**."
   ]
  },
  {
   "cell_type": "code",
   "execution_count": 47,
   "metadata": {},
   "outputs": [
    {
     "name": "stdout",
     "output_type": "stream",
     "text": [
      "7 <class 'int'>\n",
      "{1: 'hola', 2: 'que pez'} <class 'dict'>\n"
     ]
    }
   ],
   "source": [
    "#type(variable) nos dice que tipo de variable es :3\n",
    "prueba = 2\n",
    "print(prueba+5, type(prueba))\n",
    "\n",
    "prueba = {1:\"hola\", 2:\"que pez\"}\n",
    "print(prueba, type(prueba))"
   ]
  },
  {
   "cell_type": "markdown",
   "metadata": {},
   "source": [
    "### Strings\n",
    "Son secuencias ordenadas de caracteres; se usan comillas simples o dobles:`\"que onda\"`, `'que pez'`, gracias a eso podemos usar comillas en un string, i.e. `'te ves \"cool\"'`. Podemos acceder a cada entrada utilizando indices `variable[i]`.\n",
    "#### Indexing y slicing\n",
    "En general, para hacer slicing, es `variable[star:stop:step]` (el stop no se incluye), y pues indexing es acceder a la i-esima entrada, lo cual se puede hacer de izquierda a derecha `variable[i]` o de derecha a izquierda `variable[-i]` (en ambos casos con `i>=0`)."
   ]
  },
  {
   "cell_type": "code",
   "execution_count": 66,
   "metadata": {},
   "outputs": [
    {
     "name": "stdout",
     "output_type": "stream",
     "text": [
      "abcdefghijklmn b bcdef j 14 abc klmn adgjm\n"
     ]
    }
   ],
   "source": [
    "variable = \"abcdefghijklmn\"\n",
    "print(variable, variable[1], variable[1:6:1], variable[-5], \n",
    "      len(variable), variable[:3], variable[10:], variable[::3])"
   ]
  },
  {
   "cell_type": "markdown",
   "metadata": {},
   "source": [
    "#### Propiedades y metodos de las strings\n",
    "1. Las strings son inmutables"
   ]
  },
  {
   "cell_type": "code",
   "execution_count": 94,
   "metadata": {},
   "outputs": [],
   "source": [
    "nombre = \"Juan\"\n",
    "# Esto no funciona, por que son inmutables:  \n",
    "# nombre[0] = \"P\""
   ]
  },
  {
   "cell_type": "markdown",
   "metadata": {},
   "source": [
    "2. Puedes sumar strings (string concatenation)"
   ]
  },
  {
   "cell_type": "code",
   "execution_count": 95,
   "metadata": {},
   "outputs": [
    {
     "name": "stdout",
     "output_type": "stream",
     "text": [
      "Pedro Juan\n"
     ]
    }
   ],
   "source": [
    "print(\"Pedro \"+ nombre)"
   ]
  },
  {
   "cell_type": "markdown",
   "metadata": {},
   "source": [
    "3. Puedes multiplicar (numericamente) strings"
   ]
  },
  {
   "cell_type": "code",
   "execution_count": 96,
   "metadata": {},
   "outputs": [
    {
     "data": {
      "text/plain": [
       "'JuanJuanJuanJuanJuan'"
      ]
     },
     "execution_count": 96,
     "metadata": {},
     "output_type": "execute_result"
    }
   ],
   "source": [
    "nombre*5"
   ]
  },
  {
   "cell_type": "markdown",
   "metadata": {},
   "source": [
    "4. Hay varias cosas que podemos hacer con un string, para consultarlas escrbimos `variable.` y presionamos Tab. Algunos son, por ejemplo:"
   ]
  },
  {
   "cell_type": "code",
   "execution_count": 97,
   "metadata": {},
   "outputs": [
    {
     "name": "stdout",
     "output_type": "stream",
     "text": [
      "JUAN\n",
      "juan\n"
     ]
    }
   ],
   "source": [
    "print(nombre.upper())\n",
    "print(nombre.lower())"
   ]
  },
  {
   "cell_type": "markdown",
   "metadata": {},
   "source": [
    "`variable.split(a)` es es muy util, pasa una string a una lista, cada elemento separado por el valor `a=char` (default a=\" \") quitando los valores \"a\" de la lista."
   ]
  },
  {
   "cell_type": "code",
   "execution_count": 104,
   "metadata": {},
   "outputs": [
    {
     "name": "stdout",
     "output_type": "stream",
     "text": [
      "['Pedro', 'Juan']\n"
     ]
    }
   ],
   "source": [
    "nombre = \"Pedro Juan\"\n",
    "print(nombre.split())"
   ]
  },
  {
   "cell_type": "markdown",
   "metadata": {},
   "source": [
    "### Formato de impresion para string\n",
    "Podemos \"insertar\" una variable de maneras diferentes en una impresion. Tenemos el metodo `.format()` y el **f-string** (formattes string literals).\n",
    "\n",
    "#### metodo .format()\n",
    "Las sintaxis general es `\"Blablabla {especificaciones} y mas blabla\".format(variable1, variable2)`. En las especificaciones se puede pones que variable es, ya sea por numero o por nombre dentro del format. Para los numreos, podemos darles formato, de manera general es `{valor:separador.precision tipo}`. Algunos particularmente utiles: para dar valores separado por coma `{:,.precision tipo}`, para notacion exponencial `{:.precision e}` y para porcentajes `{:.precision %}`\n",
    "`"
   ]
  },
  {
   "cell_type": "code",
   "execution_count": 137,
   "metadata": {},
   "outputs": [
    {
     "name": "stdout",
     "output_type": "stream",
     "text": [
      "Esto es el ejemplo 1 Insertado jaja\n",
      "Esto es el ejemplo 2 tres uno dos\n",
      "Numeros tres tres dos uno\n"
     ]
    }
   ],
   "source": [
    "print(\"Esto es el ejemplo 1 {}\".format(\"Insertado jaja\"))\n",
    "print(\"Esto es el ejemplo 2 {2} {0} {1}\".format(\"uno\", \"dos\", \"tres\"))\n",
    "print(\"Numeros {h} {h} {g} {f}\".format(f = \"uno\", g = \"dos\", h = \"tres\"))"
   ]
  },
  {
   "cell_type": "code",
   "execution_count": 141,
   "metadata": {},
   "outputs": [
    {
     "name": "stdout",
     "output_type": "stream",
     "text": [
      "3333.3333333333335\n",
      "El resultado de la prueba es 3,333.333\n",
      "Con tamaño de 20:           3333.33333\n"
     ]
    }
   ],
   "source": [
    "prueba = 10000/3\n",
    "print(prueba)\n",
    "print(\"El resultado de la prueba es {p:,.3f}\".format(p = prueba))\n",
    "print(\"Con tamaño de 20: {p:20.5f}\".format(p = prueba))"
   ]
  },
  {
   "cell_type": "markdown",
   "metadata": {},
   "source": [
    "#### metodo f-format\n",
    "Basicamente te evitas escribir la parte de `.format()` jajajaja escribes todo dentro de `{}` y debe haber una \"f\" al incicio; esta es la manera mas nueva de hacerlo, incluida en python 3.6. Ejemplos:"
   ]
  },
  {
   "cell_type": "code",
   "execution_count": 159,
   "metadata": {},
   "outputs": [
    {
     "name": "stdout",
     "output_type": "stream",
     "text": [
      "Hola, su nombre es Pedro y la representación explicita del string es 'Pedro'\n",
      "El resultado de la prueba es 3,333.333\n"
     ]
    }
   ],
   "source": [
    "nombre = \"Pedro\"\n",
    "print(f\"Hola, su nombre es {nombre} y la representación explicita del string es {nombre!r}\")\n",
    "print(f\"El resultado de la prueba es {prueba:,.3f}\")"
   ]
  },
  {
   "cell_type": "markdown",
   "metadata": {},
   "source": [
    "Nota: Hay muchos mas ejemplos mas cool (aunque no necesariamente utiles) en el notebook de esta leccion.\n",
    "Tambien puedes hacerlo con placeholders, de una menera similar a como se hace en C, utilizando %, por ejemplo:"
   ]
  },
  {
   "cell_type": "code",
   "execution_count": 156,
   "metadata": {},
   "outputs": [
    {
     "name": "stdout",
     "output_type": "stream",
     "text": [
      "I'm going to inject some text here, and more text here.\n"
     ]
    }
   ],
   "source": [
    "print(\"I'm going to inject %s text here, and %s text here.\" %('some','more'))"
   ]
  },
  {
   "cell_type": "markdown",
   "metadata": {},
   "source": [
    "Se usa muy similar a C, pero neh, i dont like it. Finalmente, ejemplo util para recordar:"
   ]
  },
  {
   "cell_type": "code",
   "execution_count": 158,
   "metadata": {},
   "outputs": [
    {
     "name": "stdout",
     "output_type": "stream",
     "text": [
      "Left.... | =Center= | +++Right\n",
      "11       |    22    |       33\n"
     ]
    }
   ],
   "source": [
    "print('{0:.<8} | {1:=^8} | {2:+>8}'.format('Left','Center','Right'))\n",
    "print('{0:<8} | {1:^8} | {2:>8}'.format(11,22,33))"
   ]
  }
 ],
 "metadata": {
  "kernelspec": {
   "display_name": "Python 3",
   "language": "python",
   "name": "python3"
  },
  "language_info": {
   "codemirror_mode": {
    "name": "ipython",
    "version": 3
   },
   "file_extension": ".py",
   "mimetype": "text/x-python",
   "name": "python",
   "nbconvert_exporter": "python",
   "pygments_lexer": "ipython3",
   "version": "3.7.1"
  }
 },
 "nbformat": 4,
 "nbformat_minor": 2
}
