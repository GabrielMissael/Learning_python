{
 "cells": [
  {
   "cell_type": "markdown",
   "metadata": {},
   "source": [
    "## Programación orientada a objetos (OOP)\n",
    "\n",
    "Este paradigma de la programación permite crear nuevos objetos que tengan sus propios metodos y atributos. Recordando, se accedia a los metodos haciendo `objeto.metodo()`. \n",
    "\n",
    "Estos metodos actuan como funciones que utilizan informacion sobre el objeto y también el objeto mismo, para regresar algun resultado o realizar alguna modificación al objeto. \n",
    "\n",
    "### Clases y atributos\n",
    "La sintaxis general es:\n",
    "\n",
    "~~~\n",
    "class NombreDeClase()\n",
    "    def __init__(self, parametro1,...,parametroN):\n",
    "        self.parametro1 = parametro1\n",
    "           ...\n",
    "        self.parametroN = parametroN\n",
    "    \n",
    "    def metodo(self):\n",
    "        #Algo de codigo aqui, \n",
    "        #puede regresar algo o no\n",
    "        return Something\n",
    "~~~\n",
    "Cosas que notar:\n",
    "- `__init__`pued ser pensado como lo que construye la clase. Es una funcion que se ejecuta de manera **inmediata** cuando se crea el objeto y sirve para inicializar los atributos.\n",
    "- `self` permite referirse al mismo objeto.\n",
    "- Generalmente para las variables normales u objetos normales no utilizamos mayusculas, pero para este caso usaremos palabras capitalizadas, es decir `EsteEsUnEjemplo`. \n",
    "\n",
    "A continuación veremos como funcionan. La clase mas simple posible:"
   ]
  },
  {
   "cell_type": "code",
   "execution_count": 46,
   "metadata": {},
   "outputs": [
    {
     "name": "stdout",
     "output_type": "stream",
     "text": [
      "<class '__main__.MiObjeto'>\n"
     ]
    }
   ],
   "source": [
    "class MiObjeto():\n",
    "    pass\n",
    "\n",
    "ejemplo = MiObjeto()\n",
    "print(type(ejemplo))"
   ]
  },
  {
   "cell_type": "markdown",
   "metadata": {},
   "source": [
    "Para crear una clase que tenga atributos. Podemos hacer:\n",
    "~~~\n",
    "class Objeto():\n",
    "    def __init__(ElObjeto, valor_asignado):\n",
    "        ElObjeto.guarda_valor = valor_asignado\n",
    "~~~\n",
    "Pero, por 'convencion', se utiliza `self` y ademas los valores asigandos y los atributos llevan el mismo nombre, es decir:\n",
    "~~~\n",
    "class Objeto():\n",
    "    def __init__(self, algun_valor):\n",
    "        self.algun_valor = algun_valor\n",
    "~~~\n",
    "Esto hace que el codigo pueda ser leido y entendido mas facilmente."
   ]
  },
  {
   "cell_type": "code",
   "execution_count": 47,
   "metadata": {},
   "outputs": [
    {
     "name": "stdout",
     "output_type": "stream",
     "text": [
      "Desconocida Camila\n"
     ]
    }
   ],
   "source": [
    "class Dog():\n",
    "    \n",
    "    def __init__(self, nombre = 'Sin Nombre',\n",
    "                 raza = 'Desconocida'):\n",
    "        \n",
    "        self.nombre = nombre\n",
    "        self.raza = raza\n",
    "        \n",
    "mascota = Dog('Camila')\n",
    "print(mascota.raza, mascota.nombre)"
   ]
  },
  {
   "cell_type": "markdown",
   "metadata": {},
   "source": [
    "Los parametros que le pasamos a una clase pueden ser cualquier objeto, como una lista, diccionario,... lo que sea :)\n",
    "\n",
    "Podemos definir atributos que estan al **nivel del objeto clase**, es decir, que son atributos propios de toda la clase, y no de un solo objeto de ella, por lo que serán lo mismo para todos. Para hacer esto:"
   ]
  },
  {
   "cell_type": "code",
   "execution_count": 48,
   "metadata": {},
   "outputs": [
    {
     "name": "stdout",
     "output_type": "stream",
     "text": [
      "pescado felino\n"
     ]
    }
   ],
   "source": [
    "class Gato():\n",
    "    #Atributo del objeto clase\n",
    "    comida = 'pescado'\n",
    "    especie = 'felino'\n",
    "    def __init__(self, nombre):\n",
    "        self.nombre = nombre\n",
    "    \n",
    "mi_gato = Gato('NoTengo')\n",
    "\n",
    "print(mi_gato.comida, mi_gato.especie)"
   ]
  },
  {
   "cell_type": "markdown",
   "metadata": {},
   "source": [
    "### Metodos\n",
    "\n",
    "Los metodos son funciones definidas dentro de la clase sobre la que actuan. Para utilizar los metodos de un objeto, añadimos parentesis al final.\n",
    "- Atributos: `objeto.atributo`\n",
    "- Metodos: `objeto.metodo()`"
   ]
  },
  {
   "cell_type": "code",
   "execution_count": 4,
   "metadata": {},
   "outputs": [
    {
     "name": "stdout",
     "output_type": "stream",
     "text": [
      "miauuuu, me llamo Gar y soy un felino\n",
      "miauuuu, me llamo Raru y soy un felino\n"
     ]
    }
   ],
   "source": [
    "class Gato():\n",
    "    \n",
    "    especie = 'felino'\n",
    "    def __init__(self, nombre):\n",
    "        self.nombre = nombre\n",
    "        \n",
    "    def maulla(self):\n",
    "        print(f'miauuuu, me llamo {self.nombre}' +\\\n",
    "             f' y soy un {self.especie}')\n",
    "    \n",
    "    def renombra(self, nombre):\n",
    "        self.nombre = nombre\n",
    "        \n",
    "mi_gato = Gato('Gar')\n",
    "mi_gato.maulla()\n",
    "mi_gato.renombra('Raru')\n",
    "mi_gato.maulla()"
   ]
  },
  {
   "cell_type": "code",
   "execution_count": 13,
   "metadata": {},
   "outputs": [],
   "source": [
    "class Circulo():\n",
    "    pi = 3.1416\n",
    "    \n",
    "    def __init__(self, radio = 1, centro = (0,0)):\n",
    "        self.radio = radio\n",
    "        self.centro = centro\n",
    "        \n",
    "    def area(self):\n",
    "        return self.pi*self.radio**2\n",
    "\n",
    "    def perimetro(self):\n",
    "        return self.pi*self.radio*2"
   ]
  },
  {
   "cell_type": "code",
   "execution_count": 51,
   "metadata": {},
   "outputs": [
    {
     "name": "stdout",
     "output_type": "stream",
     "text": [
      "78.53999999999999 31.416\n"
     ]
    }
   ],
   "source": [
    "mi_circulo = Circulo(5, (2,1))\n",
    "print(mi_circulo.area(), mi_circulo.perimetro())"
   ]
  },
  {
   "cell_type": "markdown",
   "metadata": {},
   "source": [
    "**Nota1**: al momento de asignar los valor de los atributos, lo hemos estado haciendo de manera explicita, sin embargo, un atributo puede no ser dado de manera explicita, es decir, puede ser una operación o caracteristica de otros atributos. \n",
    "\n",
    "**Nota2**: Para atributos del objeto clase, los podemos llamar como `self.atributo` o bien como `nombre_clase.atributo`.\n",
    "\n",
    "### Herencia\n",
    "\n",
    "Herencia (en ingles, **Inheritance**) basicamente es crear clases utilizando clases que ya hemos definido. Para ello, se pasa como argumento la clase de la que estamos derivando, por ejemplo: \n",
    "~~~\n",
    "class NuevaClase(ClaseOriginal)\n",
    "~~~\n",
    "y dentro de la NuevaClase podemos acceder a los atributos y metodos de la ClaseOriginal simplemente escribiendo `ClaseOriginal.atributo`, `ClaseOriginal.metodo(self)`, o por ejemplo `ClaseOriginal.__init__(self)`. Tambien se 'heredan' todos lo metodos a la nueva clase, y podemos hacer `NuevaClase.metodo_de_la_original()`, y se ejecuta sin problemas :)\n",
    "\n",
    "Si queremos reescribir un metodo de la clase orginal en la nueva clase, solo es necesario definirla de nuevo con el mismo nombre. Ejemplo de esto:"
   ]
  },
  {
   "cell_type": "code",
   "execution_count": 31,
   "metadata": {},
   "outputs": [
    {
     "name": "stdout",
     "output_type": "stream",
     "text": [
      "Persona registrada\n",
      "Estudiante registrado\n",
      "7300 dias vivo\n",
      "Masculino 9.5\n"
     ]
    }
   ],
   "source": [
    "class Persona():\n",
    "    \n",
    "    def __init__(self, edad, genero):\n",
    "        print('Persona registrada')\n",
    "        self.edad = edad\n",
    "        self.genero = genero\n",
    "        \n",
    "    def dias_vivo(self):\n",
    "        print(f'{(self.edad*365)} dias vivo')\n",
    "        \n",
    "class Estudiante(Persona):\n",
    "    def __init__(self, nombre, promedio, edad, genero):\n",
    "        Persona.__init__(self, edad, genero)\n",
    "        \n",
    "        self.nombre = nombre\n",
    "        self.promedio = promedio\n",
    "        print('Estudiante registrado')\n",
    "    \n",
    "bubu = Estudiante('Bubu', 9.5, 20, 'Masculino')\n",
    "bubu.dias_vivo()\n",
    "print(bubu.genero, bubu.promedio)"
   ]
  },
  {
   "cell_type": "markdown",
   "metadata": {},
   "source": [
    "### Polimorfismo\n",
    "\n",
    "Es la manera en la que varias clases pueden compartir el mismo nombre para un metodo. (khe jajaja)"
   ]
  },
  {
   "cell_type": "markdown",
   "metadata": {},
   "source": [
    "### Metodos especiales\n",
    "\n",
    "Podemos hacer que metodos predefinidos en python (como `print()` o `len()`) actuen de determinada manera sobre alguna clase que hayamos definido.\n",
    "\n",
    "Para hacer eso, debemos definir una función dentro de la clase con ese metodo, como en el siguiente ejemplo:"
   ]
  },
  {
   "cell_type": "code",
   "execution_count": 53,
   "metadata": {},
   "outputs": [],
   "source": [
    "class Libro():\n",
    "    def __init__(self, title, author, pages):\n",
    "        self.title = title\n",
    "        self.author = author\n",
    "        self.pages = pages\n",
    "        \n",
    "    def __len__(self):\n",
    "        return self.pages\n",
    "    \n",
    "    def __str__(self):\n",
    "        return (f'Titulo = {self.title}\\n'\n",
    "                + f'Autor = {self.author}\\n'\n",
    "                + f'Paginas = {self.pages}')             "
   ]
  },
  {
   "cell_type": "code",
   "execution_count": 54,
   "metadata": {},
   "outputs": [],
   "source": [
    "asimov = Libro('Yo, Robot', 'Isaac Asimov', 375)"
   ]
  },
  {
   "cell_type": "code",
   "execution_count": 56,
   "metadata": {},
   "outputs": [
    {
     "name": "stdout",
     "output_type": "stream",
     "text": [
      "Titulo = Yo, Robot\n",
      "Autor = Isaac Asimov\n",
      "Paginas = 375\n"
     ]
    }
   ],
   "source": [
    "print(str(asimov))"
   ]
  },
  {
   "cell_type": "code",
   "execution_count": 63,
   "metadata": {},
   "outputs": [
    {
     "name": "stdout",
     "output_type": "stream",
     "text": [
      "375\n"
     ]
    }
   ],
   "source": [
    "print(len(asimov))"
   ]
  }
 ],
 "metadata": {
  "kernelspec": {
   "display_name": "Python 3",
   "language": "python",
   "name": "python3"
  },
  "language_info": {
   "codemirror_mode": {
    "name": "ipython",
    "version": 3
   },
   "file_extension": ".py",
   "mimetype": "text/x-python",
   "name": "python",
   "nbconvert_exporter": "python",
   "pygments_lexer": "ipython3",
   "version": "3.7.1"
  }
 },
 "nbformat": 4,
 "nbformat_minor": 2
}
