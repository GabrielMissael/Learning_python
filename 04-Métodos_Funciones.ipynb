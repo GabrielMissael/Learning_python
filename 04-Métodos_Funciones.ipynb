{
 "cells": [
  {
   "cell_type": "markdown",
   "metadata": {},
   "source": [
    "## Métodos y documentación\n",
    "Hay varios metodos precargados en python. Un metodo es basicamente una función que actua en un objeto determinado. La manera general de consultar metodos en un notebook es, para un objeto dado, escribir `objeto.` y presionar **Tab**. Por ejemplo, para listas ya conocemos los metodos append, pop, etc. \n",
    "\n",
    "Si queremos ver la documentación de un método, podemos escribir `objeto.método` y luego presionar **shift+tab**, o bien, utilizar la función help, escribiendo sencillamente `help(objeto.método)`. O bien, sencillamente ir a la [documentación](https://docs.python.org) de python en su sitio web."
   ]
  },
  {
   "cell_type": "code",
   "execution_count": 2,
   "metadata": {},
   "outputs": [
    {
     "name": "stdout",
     "output_type": "stream",
     "text": [
      "Help on built-in function insert:\n",
      "\n",
      "insert(index, object, /) method of builtins.list instance\n",
      "    Insert object before index.\n",
      "\n",
      "None\n"
     ]
    }
   ],
   "source": [
    "lista = [x for x in range(10)]\n",
    "print(help(lista.insert))"
   ]
  },
  {
   "cell_type": "markdown",
   "metadata": {},
   "source": [
    "## Funciones\n",
    "Es importante crear codigo limpio y repetible. Las funciones nos permiten escribir bloques de codigo que pueden ser facilmente ejecutados varias veces a lo larg de un programa sencillamente llamando la función, sin necesidad de reescribir de nuevo la función. La sintaxis general de una función es:\n",
    "~~~\n",
    "def nombre_de_funcion(parametro1, parametro2, ... parametroN):\n",
    "    '''\n",
    "    DOCSTRING: Información sobre la función (documentación)\n",
    "    INPUT: Parametros de la función\n",
    "    OUTPUT: Que regresa la función\n",
    "    '''\n",
    "    \n",
    "    Bloque de codigo que usa los parametros\n",
    "    return objeto\n",
    "~~~\n",
    "Notemos que no necesariamente se deben de pasar parametros a la función, ni tampoco necesariamente la función debe regresar algo. La parte del comentario es importante si alguien mas va a leer, usar o modificar tu codigo (incluido tu mismo en el futuro)"
   ]
  },
  {
   "cell_type": "code",
   "execution_count": 3,
   "metadata": {},
   "outputs": [],
   "source": [
    "def funcion(nombre='NAME', edad='AGE'):\n",
    "    print(f'Que pex {nombre}, tienes {edad} años de edad')"
   ]
  },
  {
   "cell_type": "code",
   "execution_count": 4,
   "metadata": {},
   "outputs": [
    {
     "name": "stdout",
     "output_type": "stream",
     "text": [
      "Que pex Missael, tienes 180 años de edad\n"
     ]
    }
   ],
   "source": [
    "funcion(nombre = \"Missael\", edad=180)"
   ]
  },
  {
   "cell_type": "markdown",
   "metadata": {},
   "source": [
    "El hecho de poner `nombre='NAME'` y `edad = 'AGE` es una forma de especificar valores por default para los parametros, de tal forma que al momento de llamar la función y no poner ese parametro, no nos marque error y sencillamente se tomen esos valores predeterminados.\n",
    "Otra cosa que es util notar es que podemos o no especificar el nombre del parametro al llamar la funcion. Si no lo hacemos, se asignaran de izquierda a derecha en orden."
   ]
  },
  {
   "cell_type": "code",
   "execution_count": 5,
   "metadata": {},
   "outputs": [
    {
     "name": "stdout",
     "output_type": "stream",
     "text": [
      "Que pex NAME, tienes AGE años de edad\n",
      "Que pex Missael, tienes 190 años de edad\n"
     ]
    }
   ],
   "source": [
    "funcion()\n",
    "funcion('Missael', 190)"
   ]
  },
  {
   "cell_type": "markdown",
   "metadata": {},
   "source": [
    "### Ejercicios"
   ]
  },
  {
   "cell_type": "code",
   "execution_count": 6,
   "metadata": {},
   "outputs": [],
   "source": [
    "def pig(string):\n",
    "    if string[0] in 'aeiou':\n",
    "        return string + 'ay'\n",
    "    else:\n",
    "        return string[1:] + string[0] + 'ay'"
   ]
  },
  {
   "cell_type": "code",
   "execution_count": 7,
   "metadata": {},
   "outputs": [
    {
     "name": "stdout",
     "output_type": "stream",
     "text": [
      "ordway appleay\n"
     ]
    }
   ],
   "source": [
    "print(pig('word'), pig('apple'))"
   ]
  },
  {
   "cell_type": "code",
   "execution_count": 8,
   "metadata": {},
   "outputs": [],
   "source": [
    "def doc_check(string):\n",
    "    return 'dog' in string.lower()"
   ]
  },
  {
   "cell_type": "code",
   "execution_count": 9,
   "metadata": {},
   "outputs": [
    {
     "name": "stdout",
     "output_type": "stream",
     "text": [
      "True\n"
     ]
    }
   ],
   "source": [
    "print(doc_check('Dog is a lier'))"
   ]
  },
  {
   "cell_type": "markdown",
   "metadata": {},
   "source": [
    "## `*args y **kwargs`\n",
    "Estos son dos parametros usualmente utiles, que nos ayudan a meter una cantidad arbitraria de parametros en una función de manera sencilla."
   ]
  },
  {
   "cell_type": "code",
   "execution_count": 10,
   "metadata": {},
   "outputs": [],
   "source": [
    "def mi_funcion(a, b):\n",
    "    # Regresa el 50% de la suma de a y b\n",
    "    return (a+b)*0.5"
   ]
  },
  {
   "cell_type": "code",
   "execution_count": 11,
   "metadata": {},
   "outputs": [
    {
     "data": {
      "text/plain": [
       "50.0"
      ]
     },
     "execution_count": 11,
     "metadata": {},
     "output_type": "execute_result"
    }
   ],
   "source": [
    "mi_funcion(10, 90)"
   ]
  },
  {
   "cell_type": "markdown",
   "metadata": {},
   "source": [
    "En esta funcion podriamos querer trabajar con mas de dos numeros, para esto podriamos asignar un monton de parametros(tantos como queramos), pero es mas efectivo usar ***args**, y de esta manera acepta un numero arbitrario (no definido) de numeros.\n",
    "\n",
    "***args** se trata como una tupla (es inmutable). Notemos que por default le llamamos **args** pero perfectamente podria ser ***pedrito**, lo importante es la * al inicio. Aunque ojo, por convencion se usa args. Es importante notar que ninguno de los parametros que mandamos a la función tiene un 'nombre', lo cual es logico, ya que se guardaran en una tupla, por lo que solo importa el orden que tengan."
   ]
  },
  {
   "cell_type": "code",
   "execution_count": 12,
   "metadata": {},
   "outputs": [],
   "source": [
    "def mi_funcion(*args):\n",
    "    #Regresa el 50% de la suma de los numeros dados\n",
    "    print(type(args))\n",
    "    print(args)\n",
    "    return sum(args)*0.5"
   ]
  },
  {
   "cell_type": "code",
   "execution_count": 13,
   "metadata": {},
   "outputs": [
    {
     "name": "stdout",
     "output_type": "stream",
     "text": [
      "<class 'tuple'>\n",
      "(11, 50, 100, 1234, 123, 523)\n",
      "1020.5\n"
     ]
    }
   ],
   "source": [
    "print(mi_funcion(11, 50, 100, 1234, 123, 523))"
   ]
  },
  {
   "cell_type": "markdown",
   "metadata": {},
   "source": [
    "En python existe una forma de pasar una cantidad arbitraria de ***args** diferentes a una misma funcion, para eso usamos ****kwargs** (this stands for 'keyword arguments'), y se maneja como un **diccionario**, donde cada llave se relaciona con un objeto en python. Es importante notar que en este caso cada parametro que pasemos a la función debe tener un nombre, una keyword, lo cual es obvio, porque se guardaran en un diccionario."
   ]
  },
  {
   "cell_type": "code",
   "execution_count": 14,
   "metadata": {},
   "outputs": [],
   "source": [
    "def ejemplo(**kwargs):\n",
    "    print(type(kwargs))\n",
    "    print(kwargs)\n",
    "    for key in kwargs:\n",
    "        print('La primera entrada de este objeto'\n",
    "              +f' relacionado con la llave \"{key}\" es: {kwargs[key][0]}')"
   ]
  },
  {
   "cell_type": "code",
   "execution_count": 15,
   "metadata": {},
   "outputs": [
    {
     "name": "stdout",
     "output_type": "stream",
     "text": [
      "<class 'dict'>\n",
      "{'animales': ['perros', 'gatos', 'conejos'], 'frutas': ('mango', 'pera'), 'numeros': {0: 'cero', 1: 'uno'}}\n",
      "La primera entrada de este objeto relacionado con la llave \"animales\" es: perros\n",
      "La primera entrada de este objeto relacionado con la llave \"frutas\" es: mango\n",
      "La primera entrada de este objeto relacionado con la llave \"numeros\" es: cero\n"
     ]
    }
   ],
   "source": [
    "ejemplo(animales=['perros', 'gatos', 'conejos'], frutas = ('mango', 'pera'),\n",
    "       numeros = {0:'cero', 1:'uno'})"
   ]
  },
  {
   "cell_type": "markdown",
   "metadata": {},
   "source": [
    "Una vez mas, no es necesario usar especificamente **kwargs**, puedes usar cualquier otro nombre de variable (por que al final, eso es), sin embargo, es recomendable usar eso, por convención. \n",
    "Podemos perfectamente combinar ***args** y ****kwargs** si fuera necesario, por ejemplo:"
   ]
  },
  {
   "cell_type": "code",
   "execution_count": 16,
   "metadata": {},
   "outputs": [],
   "source": [
    "def no_hace_nada(*args, **kwargs):\n",
    "    for i, num in enumerate(args):\n",
    "        print('Tengo {0} {2} para cada {1}'.format(\n",
    "            num, kwargs['animales'][i], kwargs['cosas'][i]))"
   ]
  },
  {
   "cell_type": "code",
   "execution_count": 17,
   "metadata": {},
   "outputs": [
    {
     "name": "stdout",
     "output_type": "stream",
     "text": [
      "Tengo 10 huesos para cada perro\n",
      "Tengo 2 espacios para cada gato\n",
      "Tengo 50 alimentos para cada araña\n"
     ]
    }
   ],
   "source": [
    "no_hace_nada(10, 2, 50, animales = ['perro', 'gato', 'araña'], \n",
    "            cosas = ['huesos', 'espacios', 'alimentos'])"
   ]
  },
  {
   "cell_type": "markdown",
   "metadata": {},
   "source": [
    "## Lambda expresions, map y filter functions\n",
    "Lambda expresions nos sirve para crear lo que se conoce como funciones 'anonimas', que basicamente son funciones que solo usaremos una vez, por lo que ni si quiera es necesario darles un nombre. Primero veamos que son las funciones map y filter, que están incluidas en python. En el caso de **map**, mapea una objeto iterable a una función, como se evaluaramos cada entrada del objeto, por ejemplo:"
   ]
  },
  {
   "cell_type": "code",
   "execution_count": 52,
   "metadata": {},
   "outputs": [],
   "source": [
    "def cuadrado(num, nombre):\n",
    "    return \"El cuadrado de \"+nombre+\" es \" + str(num**2)\n",
    "\n",
    "numeros = [1, 2, 3, 4, 5]\n",
    "nombres = ['Missa', 'Bubu', 'Zaid']"
   ]
  },
  {
   "cell_type": "markdown",
   "metadata": {},
   "source": [
    "Si quisieramos aplicar la funcion *cuadrado* a cada una de las entradas de la lista *numeros* tendriamos que hacer un ciclo for. Es mas facil hacerlo con la función map, que en general recibe `map(funcion, *args, **kwargs)`, en este caso:"
   ]
  },
  {
   "cell_type": "code",
   "execution_count": 53,
   "metadata": {},
   "outputs": [
    {
     "name": "stdout",
     "output_type": "stream",
     "text": [
      "['El cuadrado de Missa es 1', 'El cuadrado de Bubu es 4', 'El cuadrado de Zaid es 9']\n"
     ]
    }
   ],
   "source": [
    "resultados = list(map(cuadrado, numeros, nombres))\n",
    "print(resultados)"
   ]
  },
  {
   "cell_type": "markdown",
   "metadata": {},
   "source": [
    "Notemos que *numeros* tiene mas elementos que *nombre*, sin embargo, **map** se detiene con el objeto iterable mas pequeño, en este caso *nombre*.\n",
    "\n",
    "Ahora, la función **filter** utiliza una función que regresa solo *True* o *False*, la cual se considera como un filtro que se aplica a un objeto iterble, para entonces regresar unicamente los elementos de dicho objeto que satisfagan la condición, es decir, con los que la función filtro regrese True. Por ejemplo, una función filtro para numeros pares:"
   ]
  },
  {
   "cell_type": "code",
   "execution_count": 35,
   "metadata": {},
   "outputs": [],
   "source": [
    "def paridad(num):\n",
    "    return num%2==0\n",
    "\n",
    "checar = [1,2,3,4,5,6]"
   ]
  },
  {
   "cell_type": "code",
   "execution_count": 38,
   "metadata": {},
   "outputs": [
    {
     "name": "stdout",
     "output_type": "stream",
     "text": [
      "[2, 4, 6]\n"
     ]
    }
   ],
   "source": [
    "pares = list(filter(paridad, checar))\n",
    "print(pares)"
   ]
  },
  {
   "cell_type": "markdown",
   "metadata": {},
   "source": [
    "Finalmente, veamos que es una **lambda expresion**. Como ya dijimos, es una función que solo usamos una vez. Transformemos una función normal a una expresión lambda, y veamos sus diferencias:"
   ]
  },
  {
   "cell_type": "code",
   "execution_count": 42,
   "metadata": {},
   "outputs": [],
   "source": [
    "#Funcion normal\n",
    "def cuadrado1(num):\n",
    "    return num**2\n",
    "\n",
    "#Lambda\n",
    "cuadrado2 = lambda num: num**2"
   ]
  },
  {
   "cell_type": "code",
   "execution_count": 47,
   "metadata": {},
   "outputs": [
    {
     "data": {
      "text/plain": [
       "25"
      ]
     },
     "execution_count": 47,
     "metadata": {},
     "output_type": "execute_result"
    }
   ],
   "source": [
    "cuadrado1(5)"
   ]
  },
  {
   "cell_type": "code",
   "execution_count": 48,
   "metadata": {},
   "outputs": [
    {
     "data": {
      "text/plain": [
       "25"
      ]
     },
     "execution_count": 48,
     "metadata": {},
     "output_type": "execute_result"
    }
   ],
   "source": [
    "cuadrado2(5)"
   ]
  },
  {
   "cell_type": "markdown",
   "metadata": {},
   "source": [
    "En este caso nombrado a la función lambda como cuadrado2, pero por lo general esto no se hace, si no que mas bien se usa en conjunto con las funciones **map** y **filter**, por ejemplo, realizando los mismos ejemplos anteriores de map y filter con lambda expresions:"
   ]
  },
  {
   "cell_type": "code",
   "execution_count": 51,
   "metadata": {},
   "outputs": [
    {
     "name": "stdout",
     "output_type": "stream",
     "text": [
      "[1, 4, 9, 16, 25, 36]\n",
      "[2, 4, 6]\n"
     ]
    }
   ],
   "source": [
    "numeros = [1,2,3,4,5,6]\n",
    "cuadrados = list(map(lambda num: num**2, numeros))\n",
    "pares = list(filter(lambda num: num%2==0, numeros))\n",
    "\n",
    "print(cuadrados)\n",
    "print(pares)"
   ]
  },
  {
   "cell_type": "markdown",
   "metadata": {},
   "source": [
    "Esto deja en evidencia que lambda expresions son utiles cuando unicamente utilizaremos la función una sola vez para hacer algo. Es importante considerar que las expresiones lambda son de una sola linea, es decir, sirven para funciones cortas. Para funciones mas elaboradas y largas, es mejor usar un **def**."
   ]
  },
  {
   "cell_type": "markdown",
   "metadata": {},
   "source": [
    "## Nested statements and scopes\n",
    "Existe un orden en el que las variables en python son guardades y tomadas en cuenta, para ello tenemos tres reglas:\n",
    "1. Name assignments will create or change local names by default.\n",
    "2. Name references search (at most) four scopes, these are the LEGB Rule:\n",
    "    + L: Local — Names assigned in any way within a function (def or lambda), and not declared global in that function.\n",
    "    + E: Enclosing function locals — Names in the local scope of any and all enclosing functions (def or lambda), from inner to outer.\n",
    "    + G: Global (module) — Names assigned at the top-level of a module file, or declared global in a def within the file.\n",
    "    + B: Built-in (Python) — Names preassigned in the built-in names module : open, range, SyntaxError,...\n",
    "3. Names declared in global and nonlocal statements map assigned names to enclosing module and function scopes.\n",
    "\n",
    "Si queremos guardar o declarar una variable como global y no como local, debemos especificarlo explicitamente:"
   ]
  },
  {
   "cell_type": "code",
   "execution_count": 59,
   "metadata": {},
   "outputs": [],
   "source": [
    "def ejemplo():\n",
    "    global x\n",
    "    x = 50"
   ]
  },
  {
   "cell_type": "code",
   "execution_count": 63,
   "metadata": {},
   "outputs": [
    {
     "data": {
      "text/plain": [
       "50"
      ]
     },
     "execution_count": 63,
     "metadata": {},
     "output_type": "execute_result"
    }
   ],
   "source": [
    "x = 25\n",
    "ejemplo()\n",
    "x"
   ]
  },
  {
   "cell_type": "markdown",
   "metadata": {},
   "source": [
    "Para checar que variables locale y globales tenemos, podemos usar las funciones *globals()* y *locals()*"
   ]
  },
  {
   "cell_type": "code",
   "execution_count": 70,
   "metadata": {},
   "outputs": [],
   "source": [
    "def ejemplo():\n",
    "    x = 50\n",
    "    #Lo comento porque se imprimen todas la variables globales del notebook jajajaja\n",
    "    #print(globals())\n",
    "    print(\"Variables locales: \",locals())"
   ]
  },
  {
   "cell_type": "code",
   "execution_count": 71,
   "metadata": {},
   "outputs": [
    {
     "name": "stdout",
     "output_type": "stream",
     "text": [
      "Variables locales:  {'x': 50}\n"
     ]
    }
   ],
   "source": [
    "ejemplo()"
   ]
  }
 ],
 "metadata": {
  "kernelspec": {
   "display_name": "Python 3",
   "language": "python",
   "name": "python3"
  },
  "language_info": {
   "codemirror_mode": {
    "name": "ipython",
    "version": 3
   },
   "file_extension": ".py",
   "mimetype": "text/x-python",
   "name": "python",
   "nbconvert_exporter": "python",
   "pygments_lexer": "ipython3",
   "version": "3.7.1"
  }
 },
 "nbformat": 4,
 "nbformat_minor": 2
}
